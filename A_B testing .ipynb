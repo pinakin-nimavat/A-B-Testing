{
 "cells": [
  {
   "cell_type": "code",
   "execution_count": 1,
   "id": "8e3acb9f",
   "metadata": {},
   "outputs": [],
   "source": [
    "# conversion rate A/B testing\n",
    "# H0: new design has same conversion rate as old design\n",
    "# Ha: new design has different conversion rate as old design\n",
    "# here we are keeping our threshold value alpha = 0.05 and cofidence interval of 95%"
   ]
  },
  {
   "cell_type": "markdown",
   "id": "04d37d15",
   "metadata": {},
   "source": [
    "Here we are keeping alpha as threshold because we want to convey that \" If the probability of observing a result as extreme or more p-value is lower than alpha, then we reject the null hypothesis. since our alpha is 0.05 that means our confidence( 1 - alpha) is 95%"
   ]
  },
  {
   "cell_type": "code",
   "execution_count": 2,
   "id": "ed89bc27",
   "metadata": {},
   "outputs": [],
   "source": [
    "# in order to choose the correct sample size there is something known as power analysis. Which depends on few factors.\n",
    "# 1) Power of the test (1- beta) - this means probability of finding statistical difference between groups in our test\n",
    "# when a difference is actually present. \n",
    "# 2) Aplha value\n",
    "# 3) Effect size - how big of the difference we expect there to be between the conversion rates"
   ]
  },
  {
   "cell_type": "code",
   "execution_count": 3,
   "id": "c3a9af64",
   "metadata": {},
   "outputs": [],
   "source": [
    "import numpy as np\n",
    "import pandas as pd\n",
    "import scipy.stats as stats\n",
    "import statsmodels.stats.api as sms\n",
    "import matplotlib.pyplot as plt\n",
    "import matplotlib as mpl\n",
    "import seaborn as sns\n",
    "from math import ceil"
   ]
  },
  {
   "cell_type": "code",
   "execution_count": 4,
   "id": "8349fe82",
   "metadata": {},
   "outputs": [],
   "source": [
    "%matplotlib inline"
   ]
  },
  {
   "cell_type": "code",
   "execution_count": 5,
   "id": "2acd5730",
   "metadata": {},
   "outputs": [
    {
     "name": "stdout",
     "output_type": "stream",
     "text": [
      "6319\n"
     ]
    }
   ],
   "source": [
    "effect_size = sms.proportion_effectsize(0.13,0.15)\n",
    "\n",
    "required_n = ceil(sms.NormalIndPower().solve_power(effect_size,power=0.90,alpha=0.05,ratio=1))\n",
    "\n",
    "print(required_n)"
   ]
  },
  {
   "cell_type": "markdown",
   "id": "78ed00ea",
   "metadata": {},
   "source": [
    "we need sample size of 6319 observations for each group ( controlled group and treatment group)"
   ]
  },
  {
   "cell_type": "code",
   "execution_count": 6,
   "id": "697ec91d",
   "metadata": {},
   "outputs": [],
   "source": [
    "data = pd.read_csv(\"ab_data.csv\")"
   ]
  },
  {
   "cell_type": "code",
   "execution_count": 7,
   "id": "052011e0",
   "metadata": {},
   "outputs": [
    {
     "data": {
      "text/html": [
       "<div>\n",
       "<style scoped>\n",
       "    .dataframe tbody tr th:only-of-type {\n",
       "        vertical-align: middle;\n",
       "    }\n",
       "\n",
       "    .dataframe tbody tr th {\n",
       "        vertical-align: top;\n",
       "    }\n",
       "\n",
       "    .dataframe thead th {\n",
       "        text-align: right;\n",
       "    }\n",
       "</style>\n",
       "<table border=\"1\" class=\"dataframe\">\n",
       "  <thead>\n",
       "    <tr style=\"text-align: right;\">\n",
       "      <th></th>\n",
       "      <th>user_id</th>\n",
       "      <th>timestamp</th>\n",
       "      <th>group</th>\n",
       "      <th>landing_page</th>\n",
       "      <th>converted</th>\n",
       "    </tr>\n",
       "  </thead>\n",
       "  <tbody>\n",
       "    <tr>\n",
       "      <th>0</th>\n",
       "      <td>851104</td>\n",
       "      <td>2017-01-21 22:11:48.556739</td>\n",
       "      <td>control</td>\n",
       "      <td>old_page</td>\n",
       "      <td>0</td>\n",
       "    </tr>\n",
       "    <tr>\n",
       "      <th>1</th>\n",
       "      <td>804228</td>\n",
       "      <td>2017-01-12 08:01:45.159739</td>\n",
       "      <td>control</td>\n",
       "      <td>old_page</td>\n",
       "      <td>0</td>\n",
       "    </tr>\n",
       "    <tr>\n",
       "      <th>2</th>\n",
       "      <td>661590</td>\n",
       "      <td>2017-01-11 16:55:06.154213</td>\n",
       "      <td>treatment</td>\n",
       "      <td>new_page</td>\n",
       "      <td>0</td>\n",
       "    </tr>\n",
       "    <tr>\n",
       "      <th>3</th>\n",
       "      <td>853541</td>\n",
       "      <td>2017-01-08 18:28:03.143765</td>\n",
       "      <td>treatment</td>\n",
       "      <td>new_page</td>\n",
       "      <td>0</td>\n",
       "    </tr>\n",
       "    <tr>\n",
       "      <th>4</th>\n",
       "      <td>864975</td>\n",
       "      <td>2017-01-21 01:52:26.210827</td>\n",
       "      <td>control</td>\n",
       "      <td>old_page</td>\n",
       "      <td>1</td>\n",
       "    </tr>\n",
       "    <tr>\n",
       "      <th>...</th>\n",
       "      <td>...</td>\n",
       "      <td>...</td>\n",
       "      <td>...</td>\n",
       "      <td>...</td>\n",
       "      <td>...</td>\n",
       "    </tr>\n",
       "    <tr>\n",
       "      <th>294473</th>\n",
       "      <td>751197</td>\n",
       "      <td>2017-01-03 22:28:38.630509</td>\n",
       "      <td>control</td>\n",
       "      <td>old_page</td>\n",
       "      <td>0</td>\n",
       "    </tr>\n",
       "    <tr>\n",
       "      <th>294474</th>\n",
       "      <td>945152</td>\n",
       "      <td>2017-01-12 00:51:57.078372</td>\n",
       "      <td>control</td>\n",
       "      <td>old_page</td>\n",
       "      <td>0</td>\n",
       "    </tr>\n",
       "    <tr>\n",
       "      <th>294475</th>\n",
       "      <td>734608</td>\n",
       "      <td>2017-01-22 11:45:03.439544</td>\n",
       "      <td>control</td>\n",
       "      <td>old_page</td>\n",
       "      <td>0</td>\n",
       "    </tr>\n",
       "    <tr>\n",
       "      <th>294476</th>\n",
       "      <td>697314</td>\n",
       "      <td>2017-01-15 01:20:28.957438</td>\n",
       "      <td>control</td>\n",
       "      <td>old_page</td>\n",
       "      <td>0</td>\n",
       "    </tr>\n",
       "    <tr>\n",
       "      <th>294477</th>\n",
       "      <td>715931</td>\n",
       "      <td>2017-01-16 12:40:24.467417</td>\n",
       "      <td>treatment</td>\n",
       "      <td>new_page</td>\n",
       "      <td>0</td>\n",
       "    </tr>\n",
       "  </tbody>\n",
       "</table>\n",
       "<p>294478 rows × 5 columns</p>\n",
       "</div>"
      ],
      "text/plain": [
       "        user_id                   timestamp      group landing_page  converted\n",
       "0        851104  2017-01-21 22:11:48.556739    control     old_page          0\n",
       "1        804228  2017-01-12 08:01:45.159739    control     old_page          0\n",
       "2        661590  2017-01-11 16:55:06.154213  treatment     new_page          0\n",
       "3        853541  2017-01-08 18:28:03.143765  treatment     new_page          0\n",
       "4        864975  2017-01-21 01:52:26.210827    control     old_page          1\n",
       "...         ...                         ...        ...          ...        ...\n",
       "294473   751197  2017-01-03 22:28:38.630509    control     old_page          0\n",
       "294474   945152  2017-01-12 00:51:57.078372    control     old_page          0\n",
       "294475   734608  2017-01-22 11:45:03.439544    control     old_page          0\n",
       "294476   697314  2017-01-15 01:20:28.957438    control     old_page          0\n",
       "294477   715931  2017-01-16 12:40:24.467417  treatment     new_page          0\n",
       "\n",
       "[294478 rows x 5 columns]"
      ]
     },
     "execution_count": 7,
     "metadata": {},
     "output_type": "execute_result"
    }
   ],
   "source": [
    "data"
   ]
  },
  {
   "cell_type": "code",
   "execution_count": 8,
   "id": "f1cd5e59",
   "metadata": {},
   "outputs": [
    {
     "name": "stdout",
     "output_type": "stream",
     "text": [
      "there are 3894 users that appear multiple times in dataset\n"
     ]
    }
   ],
   "source": [
    "session_counts = data['user_id'].value_counts(ascending = False)\n",
    "multi_users = session_counts[session_counts > 1].count()\n",
    "print(f'there are {multi_users} users that appear multiple times in dataset')"
   ]
  },
  {
   "cell_type": "code",
   "execution_count": 9,
   "id": "01a7ee8d",
   "metadata": {},
   "outputs": [
    {
     "name": "stdout",
     "output_type": "stream",
     "text": [
      "the updated dataset now has 286690 entries\n"
     ]
    }
   ],
   "source": [
    "users_to_drop = session_counts[session_counts>1].index\n",
    "data = data[~data['user_id'].isin(users_to_drop)]\n",
    "print(f'the updated dataset now has {data.shape[0]} entries')"
   ]
  },
  {
   "cell_type": "code",
   "execution_count": 10,
   "id": "8da63cbe",
   "metadata": {},
   "outputs": [
    {
     "data": {
      "text/html": [
       "<div>\n",
       "<style scoped>\n",
       "    .dataframe tbody tr th:only-of-type {\n",
       "        vertical-align: middle;\n",
       "    }\n",
       "\n",
       "    .dataframe tbody tr th {\n",
       "        vertical-align: top;\n",
       "    }\n",
       "\n",
       "    .dataframe thead th {\n",
       "        text-align: right;\n",
       "    }\n",
       "</style>\n",
       "<table border=\"1\" class=\"dataframe\">\n",
       "  <thead>\n",
       "    <tr style=\"text-align: right;\">\n",
       "      <th></th>\n",
       "      <th>user_id</th>\n",
       "      <th>timestamp</th>\n",
       "      <th>group</th>\n",
       "      <th>landing_page</th>\n",
       "      <th>converted</th>\n",
       "    </tr>\n",
       "  </thead>\n",
       "  <tbody>\n",
       "    <tr>\n",
       "      <th>0</th>\n",
       "      <td>907002</td>\n",
       "      <td>2017-01-23 07:10:53.019304</td>\n",
       "      <td>control</td>\n",
       "      <td>old_page</td>\n",
       "      <td>0</td>\n",
       "    </tr>\n",
       "    <tr>\n",
       "      <th>1</th>\n",
       "      <td>688556</td>\n",
       "      <td>2017-01-11 01:40:35.354380</td>\n",
       "      <td>control</td>\n",
       "      <td>old_page</td>\n",
       "      <td>0</td>\n",
       "    </tr>\n",
       "    <tr>\n",
       "      <th>2</th>\n",
       "      <td>726787</td>\n",
       "      <td>2017-01-07 10:07:50.792649</td>\n",
       "      <td>control</td>\n",
       "      <td>old_page</td>\n",
       "      <td>0</td>\n",
       "    </tr>\n",
       "    <tr>\n",
       "      <th>3</th>\n",
       "      <td>799113</td>\n",
       "      <td>2017-01-09 05:22:59.117567</td>\n",
       "      <td>control</td>\n",
       "      <td>old_page</td>\n",
       "      <td>0</td>\n",
       "    </tr>\n",
       "    <tr>\n",
       "      <th>4</th>\n",
       "      <td>827699</td>\n",
       "      <td>2017-01-06 21:01:22.485309</td>\n",
       "      <td>control</td>\n",
       "      <td>old_page</td>\n",
       "      <td>0</td>\n",
       "    </tr>\n",
       "    <tr>\n",
       "      <th>...</th>\n",
       "      <td>...</td>\n",
       "      <td>...</td>\n",
       "      <td>...</td>\n",
       "      <td>...</td>\n",
       "      <td>...</td>\n",
       "    </tr>\n",
       "    <tr>\n",
       "      <th>12633</th>\n",
       "      <td>893037</td>\n",
       "      <td>2017-01-23 21:38:48.674260</td>\n",
       "      <td>treatment</td>\n",
       "      <td>new_page</td>\n",
       "      <td>1</td>\n",
       "    </tr>\n",
       "    <tr>\n",
       "      <th>12634</th>\n",
       "      <td>936911</td>\n",
       "      <td>2017-01-18 09:26:36.959314</td>\n",
       "      <td>treatment</td>\n",
       "      <td>new_page</td>\n",
       "      <td>0</td>\n",
       "    </tr>\n",
       "    <tr>\n",
       "      <th>12635</th>\n",
       "      <td>843262</td>\n",
       "      <td>2017-01-12 00:50:08.086284</td>\n",
       "      <td>treatment</td>\n",
       "      <td>new_page</td>\n",
       "      <td>0</td>\n",
       "    </tr>\n",
       "    <tr>\n",
       "      <th>12636</th>\n",
       "      <td>817871</td>\n",
       "      <td>2017-01-14 01:33:42.264216</td>\n",
       "      <td>treatment</td>\n",
       "      <td>new_page</td>\n",
       "      <td>0</td>\n",
       "    </tr>\n",
       "    <tr>\n",
       "      <th>12637</th>\n",
       "      <td>900523</td>\n",
       "      <td>2017-01-10 09:43:36.121457</td>\n",
       "      <td>treatment</td>\n",
       "      <td>new_page</td>\n",
       "      <td>1</td>\n",
       "    </tr>\n",
       "  </tbody>\n",
       "</table>\n",
       "<p>12638 rows × 5 columns</p>\n",
       "</div>"
      ],
      "text/plain": [
       "       user_id                   timestamp      group landing_page  converted\n",
       "0       907002  2017-01-23 07:10:53.019304    control     old_page          0\n",
       "1       688556  2017-01-11 01:40:35.354380    control     old_page          0\n",
       "2       726787  2017-01-07 10:07:50.792649    control     old_page          0\n",
       "3       799113  2017-01-09 05:22:59.117567    control     old_page          0\n",
       "4       827699  2017-01-06 21:01:22.485309    control     old_page          0\n",
       "...        ...                         ...        ...          ...        ...\n",
       "12633   893037  2017-01-23 21:38:48.674260  treatment     new_page          1\n",
       "12634   936911  2017-01-18 09:26:36.959314  treatment     new_page          0\n",
       "12635   843262  2017-01-12 00:50:08.086284  treatment     new_page          0\n",
       "12636   817871  2017-01-14 01:33:42.264216  treatment     new_page          0\n",
       "12637   900523  2017-01-10 09:43:36.121457  treatment     new_page          1\n",
       "\n",
       "[12638 rows x 5 columns]"
      ]
     },
     "execution_count": 10,
     "metadata": {},
     "output_type": "execute_result"
    }
   ],
   "source": [
    "control_sample = data[data['group']=='control'].sample(n=required_n,random_state=7)\n",
    "treatment_sample = data[data['group']=='treatment'].sample(n=required_n,random_state=7)\n",
    "\n",
    "ab_test = pd.concat([control_sample,treatment_sample],axis = 0)\n",
    "ab_test.reset_index(drop=True, inplace=True)\n",
    "\n",
    "ab_test"
   ]
  },
  {
   "cell_type": "code",
   "execution_count": 11,
   "id": "448a6e2b",
   "metadata": {},
   "outputs": [
    {
     "data": {
      "text/plain": [
       "control      6319\n",
       "treatment    6319\n",
       "Name: group, dtype: int64"
      ]
     },
     "execution_count": 11,
     "metadata": {},
     "output_type": "execute_result"
    }
   ],
   "source": [
    "ab_test['group'].value_counts()"
   ]
  },
  {
   "cell_type": "code",
   "execution_count": 12,
   "id": "c9bb12a0",
   "metadata": {},
   "outputs": [
    {
     "data": {
      "text/html": [
       "<style type=\"text/css\">\n",
       "</style>\n",
       "<table id=\"T_4fedf\">\n",
       "  <thead>\n",
       "    <tr>\n",
       "      <th class=\"blank level0\" >&nbsp;</th>\n",
       "      <th id=\"T_4fedf_level0_col0\" class=\"col_heading level0 col0\" >conversion rate</th>\n",
       "      <th id=\"T_4fedf_level0_col1\" class=\"col_heading level0 col1\" >standard deviation</th>\n",
       "      <th id=\"T_4fedf_level0_col2\" class=\"col_heading level0 col2\" >standard error</th>\n",
       "    </tr>\n",
       "    <tr>\n",
       "      <th class=\"index_name level0\" >group</th>\n",
       "      <th class=\"blank col0\" >&nbsp;</th>\n",
       "      <th class=\"blank col1\" >&nbsp;</th>\n",
       "      <th class=\"blank col2\" >&nbsp;</th>\n",
       "    </tr>\n",
       "  </thead>\n",
       "  <tbody>\n",
       "    <tr>\n",
       "      <th id=\"T_4fedf_level0_row0\" class=\"row_heading level0 row0\" >control</th>\n",
       "      <td id=\"T_4fedf_row0_col0\" class=\"data row0 col0\" >0.127</td>\n",
       "      <td id=\"T_4fedf_row0_col1\" class=\"data row0 col1\" >0.333</td>\n",
       "      <td id=\"T_4fedf_row0_col2\" class=\"data row0 col2\" >0.004</td>\n",
       "    </tr>\n",
       "    <tr>\n",
       "      <th id=\"T_4fedf_level0_row1\" class=\"row_heading level0 row1\" >treatment</th>\n",
       "      <td id=\"T_4fedf_row1_col0\" class=\"data row1 col0\" >0.122</td>\n",
       "      <td id=\"T_4fedf_row1_col1\" class=\"data row1 col1\" >0.327</td>\n",
       "      <td id=\"T_4fedf_row1_col2\" class=\"data row1 col2\" >0.004</td>\n",
       "    </tr>\n",
       "  </tbody>\n",
       "</table>\n"
      ],
      "text/plain": [
       "<pandas.io.formats.style.Styler at 0x10629fd30>"
      ]
     },
     "execution_count": 12,
     "metadata": {},
     "output_type": "execute_result"
    }
   ],
   "source": [
    "conversion_rates = ab_test.groupby('group')['converted']\n",
    "\n",
    "sdp = lambda x:np.std(x,ddof=0)\n",
    "serror = lambda x:stats.sem(x,ddof=0)\n",
    "\n",
    "conversion_rates = conversion_rates.agg([np.mean,sdp,serror])\n",
    "conversion_rates.columns = ['conversion rate','standard deviation','standard error']\n",
    "conversion_rates.style.format('{:.3f}')"
   ]
  },
  {
   "cell_type": "code",
   "execution_count": 13,
   "id": "261433ee",
   "metadata": {},
   "outputs": [
    {
     "data": {
      "text/plain": [
       "Text(0, 0.5, 'Converted (proportion)')"
      ]
     },
     "execution_count": 13,
     "metadata": {},
     "output_type": "execute_result"
    },
    {
     "data": {
      "image/png": "[encoded data removed]",
      "text/plain": [
       "<Figure size 576x432 with 1 Axes>"
      ]
     },
     "metadata": {
      "needs_background": "light"
     },
     "output_type": "display_data"
    }
   ],
   "source": [
    "plt.figure(figsize=(8,6))\n",
    "sns.barplot(x=ab_test['group'], y=ab_test['converted'],ci=False)\n",
    "\n",
    "plt.ylim(0,0.17)\n",
    "plt.title('conversion rate by group',pad=20)\n",
    "plt.xlabel('Group',labelpad = 15)\n",
    "plt.ylabel('Converted (proportion)',labelpad=15)"
   ]
  },
  {
   "cell_type": "code",
   "execution_count": 14,
   "id": "56a8ae06",
   "metadata": {},
   "outputs": [
    {
     "name": "stdout",
     "output_type": "stream",
     "text": [
      "z stats: 0.86\n",
      "p value : 0.388\n",
      "ci 95% for control group: [0.118, 0.135]\n",
      "ci 95% for treatment group: [0.113, 0.130]\n"
     ]
    }
   ],
   "source": [
    "from statsmodels.stats.proportion import proportions_ztest,proportion_confint\n",
    "\n",
    "control_results = ab_test[ab_test['group']=='control']['converted']\n",
    "treatment_results = ab_test[ab_test['group']=='treatment']['converted']\n",
    "\n",
    "n_control = control_results.count()\n",
    "n_treatment = treatment_results.count()\n",
    "successes = [control_results.sum(),treatment_results.sum()]\n",
    "n_observation = [n_control,n_treatment]\n",
    "\n",
    "z_stat, pval = proportions_ztest(successes, nobs=n_observation)\n",
    "(lower_con,lower_treat),(upper_con,upper_treat) = proportion_confint(successes,nobs=n_observation,alpha=0.05)\n",
    "\n",
    "print(f'z stats: {z_stat:.2f}')\n",
    "print(f'p value : {pval:.3f}')\n",
    "print(f'ci 95% for control group: [{lower_con:.3f}, {upper_con:.3f}]')\n",
    "print(f'ci 95% for treatment group: [{lower_treat:.3f}, {upper_treat:.3f}]')"
   ]
  }
 ],
 "metadata": {
  "kernelspec": {
   "display_name": "Python 3 (ipykernel)",
   "language": "python",
   "name": "python3"
  },
  "language_info": {
   "codemirror_mode": {
    "name": "ipython",
    "version": 3
   },
   "file_extension": ".py",
   "mimetype": "text/x-python",
   "name": "python",
   "nbconvert_exporter": "python",
   "pygments_lexer": "ipython3",
   "version": "3.9.10"
  }
 },
 "nbformat": 4,
 "nbformat_minor": 5
}
